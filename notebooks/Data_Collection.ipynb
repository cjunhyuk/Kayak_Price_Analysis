{
 "cells": [
  {
   "cell_type": "markdown",
   "id": "da5101d3",
   "metadata": {},
   "source": [
    "\n",
    "# Data Collection\n",
    "\n",
    "### This scraper was specifically designed to scrape flight ticket data from [Kayak](https://www.kayak.com/flights)\n",
    "\n",
    "### Code Credit: \n",
    "\n",
    "The base code for the scraper was from<br>\n",
    "**Favio Neves** [Github](https://github.com/fnneves/flight_scraper/blob/master/FlightScraper%20python%20bot%20for%20kayak.ipynb) [Medium](https://medium.com/@fneves/if-you-like-to-travel-let-python-help-you-scrape-the-best-fares-5a1f26213086)<br>\n",
    "The code was from 2019 so it did not work and required some modifications to properly scrape from Kayak.\n",
    "\n",
    "---"
   ]
  },
  {
   "cell_type": "markdown",
   "id": "4ccdfb8e",
   "metadata": {},
   "source": [
    "\n",
    "# Importing Scrapers from pyfiles\n",
    "\n",
    "I created two separate scrapers using chromedrivers for mac and windows so that I could scrape from either platform"
   ]
  },
  {
   "cell_type": "code",
   "execution_count": 2,
   "id": "77fd7a8c",
   "metadata": {},
   "outputs": [],
   "source": [
    "from datetime import date, timedelta\n",
    "\n",
    "from py_files.win_scraper import *"
   ]
  },
  {
   "cell_type": "code",
   "execution_count": null,
   "id": "cccad0bc",
   "metadata": {},
   "outputs": [],
   "source": [
    "from datetime import date, timedelta\n",
    "\n",
    "from py_files.mac_scraper import *"
   ]
  },
  {
   "cell_type": "markdown",
   "id": "4ff53620",
   "metadata": {},
   "source": [
    "\n",
    "# Function for establishing the date range to scrape from\n"
   ]
  },
  {
   "cell_type": "code",
   "execution_count": 3,
   "id": "ff546c49",
   "metadata": {},
   "outputs": [],
   "source": [
    "def daterange(start_date, end_date):\n",
    "    for n in range(int((end_date - start_date).days)):\n",
    "        yield start_date + timedelta(n)\n",
    "\n",
    "# function to return a list of dates\n",
    "# date format yyyymmdd\n",
    "# dep_date1 and dep_date2 are the first and last departure dates you want for your range\n",
    "# ret_date1 and ret_date2 are the first and last return dates you want for your range\n",
    "def dep_ret_range(dep_date1, dep_date2, ret_date1, ret_date2):\n",
    "    \n",
    "    dep_date_list = []\n",
    "    ret_date_list = []\n",
    "    \n",
    "    for single_date in daterange(dep_date1, dep_date2):\n",
    "        ind_date = single_date.strftime(\"%Y-%m-%d\")\n",
    "        dep_date_list.append(ind_date)\n",
    "    \n",
    "    for single_date in daterange(ret_date1, ret_date2):\n",
    "        ind_date = single_date.strftime(\"%Y-%m-%d\")\n",
    "        ret_date_list.append(ind_date)\n",
    "        \n",
    "    return dep_date_list, ret_date_list"
   ]
  },
  {
   "cell_type": "markdown",
   "id": "379ba387",
   "metadata": {},
   "source": [
    "\n",
    "# This block of code is used to determine which flights you want to scrape"
   ]
  },
  {
   "cell_type": "code",
   "execution_count": 4,
   "id": "96a0f9e0",
   "metadata": {},
   "outputs": [
    {
     "name": "stdout",
     "output_type": "stream",
     "text": [
      "From which city? EWR\n",
      "Where to? HKT\n",
      "Search around which departure date? Please use YYYYMMDD format only 20220411\n",
      "Search around which return date? Please use YYYYMMDD format only 20220417\n",
      "What date do you want to search until for departure date? Please use YYYYMMDD format only 20220412\n"
     ]
    }
   ],
   "source": [
    "city_from = input('From which city? ')\n",
    "city_to = input('Where to? ')\n",
    "\n",
    "start_date = input('Search around which departure date? Please use YYYYMMDD format only ')\n",
    "sd1 = date(int(start_date[:4]), int(start_date[4:6]), int(start_date[-2:]))\n",
    "\n",
    "return_date = input('Search around which return date? Please use YYYYMMDD format only ')\n",
    "rd1 = date(int(return_date[:4]), int(return_date[4:6]), int(return_date[-2:]))\n",
    "\n",
    "end_date = input('What date do you want to search until for departure date? Please use YYYYMMDD format only ')\n",
    "ed1 = date(int(end_date[:4]), int(end_date[4:6]), int(end_date[-2:]))\n",
    "\n",
    "ed2 = rd1 + (ed1 - sd1)\n",
    "\n",
    "dep_list, ret_list = dep_ret_range(sd1, ed1, rd1, ed2)"
   ]
  },
  {
   "cell_type": "markdown",
   "id": "27e3cb01",
   "metadata": {},
   "source": [
    "\n",
    "# Calling on the start_kayak function from scraper\n"
   ]
  },
  {
   "cell_type": "code",
   "execution_count": null,
   "id": "d1b5c608",
   "metadata": {
    "scrolled": true
   },
   "outputs": [],
   "source": [
    "for n in range(0, len(dep_list)):\n",
    "    start_kayak(city_from, city_to, dep_list[n], ret_list[n])"
   ]
  },
  {
   "cell_type": "code",
   "execution_count": null,
   "id": "f6d4e4a8",
   "metadata": {},
   "outputs": [],
   "source": []
  }
 ],
 "metadata": {
  "kernelspec": {
   "display_name": "Python 3 (ipykernel)",
   "language": "python",
   "name": "python3"
  },
  "language_info": {
   "codemirror_mode": {
    "name": "ipython",
    "version": 3
   },
   "file_extension": ".py",
   "mimetype": "text/x-python",
   "name": "python",
   "nbconvert_exporter": "python",
   "pygments_lexer": "ipython3",
   "version": "3.8.12"
  }
 },
 "nbformat": 4,
 "nbformat_minor": 5
}
