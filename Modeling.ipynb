{
 "cells": [
  {
   "cell_type": "markdown",
   "id": "13acb341",
   "metadata": {},
   "source": [
    "\n",
    "# Modeling\n",
    "\n"
   ]
  },
  {
   "cell_type": "code",
   "execution_count": 1,
   "id": "ec34d1fa",
   "metadata": {},
   "outputs": [],
   "source": [
    "import pandas as pd\n",
    "import numpy as np\n",
    "import matplotlib.pyplot as plt\n",
    "import matplotlib\n",
    "\n",
    "from statsmodels.tsa.stattools import adfuller\n",
    "\n",
    "from sklearn.linear_model import LogisticRegression\n",
    "from sklearn.tree import DecisionTreeClassifier\n",
    "from sklearn.neighbors import KNeighborsClassifier\n",
    "from sklearn.compose import ColumnTransformer\n",
    "from sklearn.preprocessing import StandardScaler, OneHotEncoder\n",
    "from sklearn.model_selection import train_test_split, cross_val_score, cross_validate, GridSearchCV\n",
    "from sklearn.metrics import accuracy_score, precision_score, recall_score,\\\n",
    "plot_confusion_matrix\n",
    "\n",
    "from imblearn.over_sampling import SMOTE\n",
    "from imblearn.pipeline import make_pipeline\n",
    "from imblearn.pipeline import Pipeline as imbpipline"
   ]
  },
  {
   "cell_type": "code",
   "execution_count": 2,
   "id": "2cff75d4",
   "metadata": {},
   "outputs": [
    {
     "data": {
      "text/html": [
       "<div>\n",
       "<style scoped>\n",
       "    .dataframe tbody tr th:only-of-type {\n",
       "        vertical-align: middle;\n",
       "    }\n",
       "\n",
       "    .dataframe tbody tr th {\n",
       "        vertical-align: top;\n",
       "    }\n",
       "\n",
       "    .dataframe thead th {\n",
       "        text-align: right;\n",
       "    }\n",
       "</style>\n",
       "<table border=\"1\" class=\"dataframe\">\n",
       "  <thead>\n",
       "    <tr style=\"text-align: right;\">\n",
       "      <th></th>\n",
       "      <th>Out Cities</th>\n",
       "      <th>Return Cities</th>\n",
       "      <th>Price</th>\n",
       "      <th>departure_date</th>\n",
       "      <th>total_duration</th>\n",
       "      <th>dep_time</th>\n",
       "      <th>ret_time</th>\n",
       "      <th>record_time</th>\n",
       "      <th>dep_airline</th>\n",
       "      <th>ret_airline</th>\n",
       "      <th>search_day</th>\n",
       "      <th>total_stops</th>\n",
       "      <th>target</th>\n",
       "    </tr>\n",
       "  </thead>\n",
       "  <tbody>\n",
       "    <tr>\n",
       "      <th>0</th>\n",
       "      <td>EWR‐SIN</td>\n",
       "      <td>SIN‐EWR</td>\n",
       "      <td>951</td>\n",
       "      <td>2022-04-10</td>\n",
       "      <td>3245</td>\n",
       "      <td>8:00</td>\n",
       "      <td>1:10</td>\n",
       "      <td>14</td>\n",
       "      <td>Korean Air</td>\n",
       "      <td>Korean Air</td>\n",
       "      <td>Sunday</td>\n",
       "      <td>4</td>\n",
       "      <td>0</td>\n",
       "    </tr>\n",
       "    <tr>\n",
       "      <th>1</th>\n",
       "      <td>EWR‐SIN</td>\n",
       "      <td>SIN‐EWR</td>\n",
       "      <td>979</td>\n",
       "      <td>2022-04-10</td>\n",
       "      <td>3185</td>\n",
       "      <td>9:00</td>\n",
       "      <td>1:10</td>\n",
       "      <td>14</td>\n",
       "      <td>Korean Air</td>\n",
       "      <td>Korean Air</td>\n",
       "      <td>Sunday</td>\n",
       "      <td>4</td>\n",
       "      <td>0</td>\n",
       "    </tr>\n",
       "    <tr>\n",
       "      <th>2</th>\n",
       "      <td>EWR‐SIN</td>\n",
       "      <td>SIN‐EWR</td>\n",
       "      <td>994</td>\n",
       "      <td>2022-04-10</td>\n",
       "      <td>2860</td>\n",
       "      <td>11:25</td>\n",
       "      <td>6:10</td>\n",
       "      <td>14</td>\n",
       "      <td>ANA</td>\n",
       "      <td>ANA</td>\n",
       "      <td>Sunday</td>\n",
       "      <td>2</td>\n",
       "      <td>1</td>\n",
       "    </tr>\n",
       "    <tr>\n",
       "      <th>3</th>\n",
       "      <td>EWR‐SIN</td>\n",
       "      <td>SIN‐EWR</td>\n",
       "      <td>994</td>\n",
       "      <td>2022-04-10</td>\n",
       "      <td>3155</td>\n",
       "      <td>6:30</td>\n",
       "      <td>6:10</td>\n",
       "      <td>14</td>\n",
       "      <td>ANA</td>\n",
       "      <td>ANA</td>\n",
       "      <td>Sunday</td>\n",
       "      <td>3</td>\n",
       "      <td>0</td>\n",
       "    </tr>\n",
       "    <tr>\n",
       "      <th>4</th>\n",
       "      <td>EWR‐SIN</td>\n",
       "      <td>SIN‐EWR</td>\n",
       "      <td>998</td>\n",
       "      <td>2022-04-10</td>\n",
       "      <td>3627</td>\n",
       "      <td>11:25</td>\n",
       "      <td>10:10</td>\n",
       "      <td>14</td>\n",
       "      <td>ANA</td>\n",
       "      <td>ANA</td>\n",
       "      <td>Sunday</td>\n",
       "      <td>3</td>\n",
       "      <td>0</td>\n",
       "    </tr>\n",
       "  </tbody>\n",
       "</table>\n",
       "</div>"
      ],
      "text/plain": [
       "  Out Cities Return Cities  Price departure_date  total_duration dep_time  \\\n",
       "0    EWR‐SIN       SIN‐EWR    951     2022-04-10            3245     8:00   \n",
       "1    EWR‐SIN       SIN‐EWR    979     2022-04-10            3185     9:00   \n",
       "2    EWR‐SIN       SIN‐EWR    994     2022-04-10            2860    11:25   \n",
       "3    EWR‐SIN       SIN‐EWR    994     2022-04-10            3155     6:30   \n",
       "4    EWR‐SIN       SIN‐EWR    998     2022-04-10            3627    11:25   \n",
       "\n",
       "  ret_time  record_time dep_airline ret_airline search_day  total_stops  \\\n",
       "0     1:10           14  Korean Air  Korean Air     Sunday            4   \n",
       "1     1:10           14  Korean Air  Korean Air     Sunday            4   \n",
       "2     6:10           14         ANA         ANA     Sunday            2   \n",
       "3     6:10           14         ANA         ANA     Sunday            3   \n",
       "4    10:10           14         ANA         ANA     Sunday            3   \n",
       "\n",
       "   target  \n",
       "0       0  \n",
       "1       0  \n",
       "2       1  \n",
       "3       0  \n",
       "4       0  "
      ]
     },
     "execution_count": 2,
     "metadata": {},
     "output_type": "execute_result"
    }
   ],
   "source": [
    "df = pd.read_csv('data/masterdf.csv')\n",
    "col_to_drop = ['Out Duration', 'Return Duration', 'timestamp', 'Out Time', \n",
    "                 'Return Time', 'sort', 'Out Stop Cities', 'Return Stop Cities',\n",
    "                'Out Airline', 'Return Airline', 'Out Stops', 'Return Stops',\n",
    "                'departure_day']\n",
    "df = df.drop(col_to_drop, axis = 1)\n",
    "df.head()"
   ]
  },
  {
   "cell_type": "code",
   "execution_count": 3,
   "id": "842888ef",
   "metadata": {},
   "outputs": [],
   "source": [
    "def model_fit_print(model, X, y):\n",
    "    X_train, X_test, y_train, y_test = train_test_split(X, y, test_size=0.25, random_state=32)\n",
    "    \n",
    "    model.fit(X_train, y_train)\n",
    "    score_matrix_printer(model, X_train, y_train, X_test, y_test)\n",
    "\n",
    "def score_matrix_printer(model, X_train, y_train, X_test, y_test):\n",
    "    train_pred = model.predict(X_train)\n",
    "    test_pred = model.predict(X_test)\n",
    "    \n",
    "    # Cleaning up scores to be more visually appealing\n",
    "    ascore_train = round((accuracy_score(y_train, train_pred) * 100), 2)\n",
    "    pscore_train = round((precision_score(y_train, train_pred) * 100), 2)\n",
    "    rscore_train = round((recall_score(y_train, train_pred) * 100), 2)\n",
    "    \n",
    "    ascore_test = round((accuracy_score(y_test, test_pred) * 100), 2)\n",
    "    pscore_test = round((precision_score(y_test, test_pred) * 100), 2)\n",
    "    rscore_test = round((recall_score(y_test, test_pred) * 100), 2)\n",
    "    \n",
    "    conf_mat = plot_confusion_matrix(model, X_test, y_test)\n",
    "    \n",
    "    print(f\"\"\"\n",
    "    Train Accuracy: {ascore_train}%\n",
    "    Train Precision: {pscore_train}%\n",
    "    ------------------------------\n",
    "    Test Accuracy: {ascore_test}%\n",
    "    Test Precision: {pscore_test}%\n",
    "    \"\"\")"
   ]
  },
  {
   "cell_type": "code",
   "execution_count": 4,
   "id": "656b2938",
   "metadata": {},
   "outputs": [],
   "source": [
    "def grid_result(grid_model):\n",
    "    print(f\"\"\"\n",
    "    Optimized score and Parameters\n",
    "    ==============================\n",
    "    Score: {grid_model.best_score_}\n",
    "    ==============================\n",
    "    Parameters: {grid_model.best_params_}\n",
    "    \"\"\")"
   ]
  },
  {
   "cell_type": "code",
   "execution_count": 5,
   "id": "82945e28",
   "metadata": {},
   "outputs": [],
   "source": [
    "# importing relevant library\n",
    "from statsmodels.tsa.stattools import adfuller\n",
    "\n",
    "# For testing stationarity\n",
    "def dicky_fuller(ts):\n",
    "    \n",
    "    dftest = adfuller(ts)\n",
    "    dfoutput = pd.Series(\n",
    "                    dftest[0:4], \n",
    "                    index=['Test Statistic','p-value','#Lags Used','Number of Observations Used']\n",
    "    )\n",
    "\n",
    "    for key,value in dftest[4].items():\n",
    "        dfoutput['Critical Value (%s)'%key] = value\n",
    "    \n",
    "    alpha = 0.05\n",
    "    is_stationary = dftest[1] < alpha\n",
    "    if is_stationary == True:\n",
    "        print(f'The data is stationary with a fuller score of {round(dftest[1],3)}')\n",
    "    else:\n",
    "        print(f'The data is not stationary with a fuller score of {round(dftest[1],3)}')\n",
    "        \n",
    "    display(dfoutput)"
   ]
  },
  {
   "cell_type": "code",
   "execution_count": 6,
   "id": "d4fb9bea",
   "metadata": {},
   "outputs": [],
   "source": [
    "time_df = df.set_index(pd.to_datetime(df['departure_date']), drop=True)\n",
    "ts = time_df['Price']\n",
    "time_df = time_df.filter(['Price', 'total_duration'], axis=1)"
   ]
  },
  {
   "cell_type": "code",
   "execution_count": 7,
   "id": "466a94b1",
   "metadata": {},
   "outputs": [
    {
     "name": "stdout",
     "output_type": "stream",
     "text": [
      "The data is stationary with a fuller score of 0.0\n"
     ]
    },
    {
     "data": {
      "text/plain": [
       "Test Statistic                -1.156877e+01\n",
       "p-value                        3.139122e-21\n",
       "#Lags Used                     4.500000e+01\n",
       "Number of Observations Used    1.888900e+04\n",
       "Critical Value (1%)           -3.430696e+00\n",
       "Critical Value (5%)           -2.861693e+00\n",
       "Critical Value (10%)          -2.566851e+00\n",
       "dtype: float64"
      ]
     },
     "metadata": {},
     "output_type": "display_data"
    },
    {
     "data": {
      "image/png": "[encoded data removed]",
      "text/plain": [
       "<Figure size 1008x432 with 1 Axes>"
      ]
     },
     "metadata": {
      "needs_background": "light"
     },
     "output_type": "display_data"
    }
   ],
   "source": [
    "time_df.plot(figsize=(14,6), linewidth=2, fontsize=14);\n",
    "dicky_fuller(ts)"
   ]
  },
  {
   "cell_type": "code",
   "execution_count": 8,
   "id": "cb7e6bc0",
   "metadata": {},
   "outputs": [
    {
     "data": {
      "text/plain": [
       "departure_date\n",
       "2022-04-10    1760.088889\n",
       "2022-04-11    1693.311594\n",
       "2022-04-12    1584.457399\n",
       "2022-04-13    1464.573913\n",
       "2022-04-14    1811.731278\n",
       "                 ...     \n",
       "2022-07-01    1895.405797\n",
       "2022-07-02    1860.350000\n",
       "2022-07-03    1828.107914\n",
       "2022-07-04    1754.114286\n",
       "2022-07-05    1653.358696\n",
       "Freq: D, Name: Price, Length: 87, dtype: float64"
      ]
     },
     "execution_count": 8,
     "metadata": {},
     "output_type": "execute_result"
    }
   ],
   "source": [
    "ts_daily = ts.resample('D').mean()\n",
    "ts_daily"
   ]
  },
  {
   "cell_type": "code",
   "execution_count": 9,
   "id": "e5fa2046",
   "metadata": {},
   "outputs": [
    {
     "data": {
      "image/png": "[encoded data removed]",
      "text/plain": [
       "<Figure size 432x288 with 1 Axes>"
      ]
     },
     "metadata": {
      "needs_background": "light"
     },
     "output_type": "display_data"
    },
    {
     "data": {
      "image/png": "[encoded data removed]",
      "text/plain": [
       "<Figure size 576x216 with 1 Axes>"
      ]
     },
     "metadata": {
      "needs_background": "light"
     },
     "output_type": "display_data"
    }
   ],
   "source": [
    "from statsmodels.graphics.tsaplots import plot_acf, plot_pacf \n",
    "plot_acf(ts_daily)\n",
    "\n",
    "fig, ax = plt.subplots(figsize=(8,3))\n",
    "plot_acf(ts_daily, ax=ax, lags=8);"
   ]
  },
  {
   "cell_type": "code",
   "execution_count": 10,
   "id": "5ce98240",
   "metadata": {},
   "outputs": [
    {
     "data": {
      "image/png": "[encoded data removed]",
      "text/plain": [
       "<Figure size 432x288 with 1 Axes>"
      ]
     },
     "metadata": {
      "needs_background": "light"
     },
     "output_type": "display_data"
    },
    {
     "data": {
      "image/png": "[encoded data removed]",
      "text/plain": [
       "<Figure size 576x216 with 1 Axes>"
      ]
     },
     "metadata": {
      "needs_background": "light"
     },
     "output_type": "display_data"
    }
   ],
   "source": [
    "plot_pacf(ts_daily) #shown below is that an AR term of 1 is ideal\n",
    "\n",
    "from statsmodels.graphics.tsaplots import plot_pacf\n",
    "fig, ax = plt.subplots(figsize=(8,3))\n",
    "plot_acf(ts_daily, ax=ax, lags=8);"
   ]
  },
  {
   "cell_type": "code",
   "execution_count": 11,
   "id": "2667c927",
   "metadata": {},
   "outputs": [
    {
     "data": {
      "image/png": "[encoded data removed]",
      "text/plain": [
       "<Figure size 432x288 with 1 Axes>"
      ]
     },
     "metadata": {
      "needs_background": "light"
     },
     "output_type": "display_data"
    }
   ],
   "source": [
    "from pandas.plotting import lag_plot\n",
    "lag_plot(ts_daily)\n",
    "plt.show()"
   ]
  },
  {
   "cell_type": "code",
   "execution_count": 12,
   "id": "fac13027",
   "metadata": {},
   "outputs": [
    {
     "data": {
      "text/html": [
       "<table class=\"simpletable\">\n",
       "<caption>SARIMAX Results</caption>\n",
       "<tr>\n",
       "  <th>Dep. Variable:</th>         <td>Price</td>      <th>  No. Observations:  </th>    <td>87</td>   \n",
       "</tr>\n",
       "<tr>\n",
       "  <th>Model:</th>            <td>ARIMA(1, 0, 1)</td>  <th>  Log Likelihood     </th> <td>-540.098</td>\n",
       "</tr>\n",
       "<tr>\n",
       "  <th>Date:</th>            <td>Wed, 06 Apr 2022</td> <th>  AIC                </th> <td>1088.197</td>\n",
       "</tr>\n",
       "<tr>\n",
       "  <th>Time:</th>                <td>19:10:11</td>     <th>  BIC                </th> <td>1098.060</td>\n",
       "</tr>\n",
       "<tr>\n",
       "  <th>Sample:</th>             <td>04-10-2022</td>    <th>  HQIC               </th> <td>1092.168</td>\n",
       "</tr>\n",
       "<tr>\n",
       "  <th></th>                   <td>- 07-05-2022</td>   <th>                     </th>     <td> </td>   \n",
       "</tr>\n",
       "<tr>\n",
       "  <th>Covariance Type:</th>        <td>opg</td>       <th>                     </th>     <td> </td>   \n",
       "</tr>\n",
       "</table>\n",
       "<table class=\"simpletable\">\n",
       "<tr>\n",
       "     <td></td>       <th>coef</th>     <th>std err</th>      <th>z</th>      <th>P>|z|</th>  <th>[0.025</th>    <th>0.975]</th>  \n",
       "</tr>\n",
       "<tr>\n",
       "  <th>const</th>  <td> 1710.8376</td> <td>   26.030</td> <td>   65.726</td> <td> 0.000</td> <td> 1659.820</td> <td> 1761.855</td>\n",
       "</tr>\n",
       "<tr>\n",
       "  <th>ar.L1</th>  <td>    0.4134</td> <td>    0.173</td> <td>    2.387</td> <td> 0.017</td> <td>    0.074</td> <td>    0.753</td>\n",
       "</tr>\n",
       "<tr>\n",
       "  <th>ma.L1</th>  <td>    0.1029</td> <td>    0.212</td> <td>    0.485</td> <td> 0.628</td> <td>   -0.313</td> <td>    0.519</td>\n",
       "</tr>\n",
       "<tr>\n",
       "  <th>sigma2</th> <td> 1.451e+04</td> <td> 2545.115</td> <td>    5.702</td> <td> 0.000</td> <td> 9523.145</td> <td> 1.95e+04</td>\n",
       "</tr>\n",
       "</table>\n",
       "<table class=\"simpletable\">\n",
       "<tr>\n",
       "  <th>Ljung-Box (L1) (Q):</th>     <td>0.01</td> <th>  Jarque-Bera (JB):  </th> <td>2.64</td> \n",
       "</tr>\n",
       "<tr>\n",
       "  <th>Prob(Q):</th>                <td>0.91</td> <th>  Prob(JB):          </th> <td>0.27</td> \n",
       "</tr>\n",
       "<tr>\n",
       "  <th>Heteroskedasticity (H):</th> <td>0.24</td> <th>  Skew:              </th> <td>-0.41</td>\n",
       "</tr>\n",
       "<tr>\n",
       "  <th>Prob(H) (two-sided):</th>    <td>0.00</td> <th>  Kurtosis:          </th> <td>2.79</td> \n",
       "</tr>\n",
       "</table><br/><br/>Warnings:<br/>[1] Covariance matrix calculated using the outer product of gradients (complex-step)."
      ],
      "text/plain": [
       "<class 'statsmodels.iolib.summary.Summary'>\n",
       "\"\"\"\n",
       "                               SARIMAX Results                                \n",
       "==============================================================================\n",
       "Dep. Variable:                  Price   No. Observations:                   87\n",
       "Model:                 ARIMA(1, 0, 1)   Log Likelihood                -540.098\n",
       "Date:                Wed, 06 Apr 2022   AIC                           1088.197\n",
       "Time:                        19:10:11   BIC                           1098.060\n",
       "Sample:                    04-10-2022   HQIC                          1092.168\n",
       "                         - 07-05-2022                                         \n",
       "Covariance Type:                  opg                                         \n",
       "==============================================================================\n",
       "                 coef    std err          z      P>|z|      [0.025      0.975]\n",
       "------------------------------------------------------------------------------\n",
       "const       1710.8376     26.030     65.726      0.000    1659.820    1761.855\n",
       "ar.L1          0.4134      0.173      2.387      0.017       0.074       0.753\n",
       "ma.L1          0.1029      0.212      0.485      0.628      -0.313       0.519\n",
       "sigma2      1.451e+04   2545.115      5.702      0.000    9523.145    1.95e+04\n",
       "===================================================================================\n",
       "Ljung-Box (L1) (Q):                   0.01   Jarque-Bera (JB):                 2.64\n",
       "Prob(Q):                              0.91   Prob(JB):                         0.27\n",
       "Heteroskedasticity (H):               0.24   Skew:                            -0.41\n",
       "Prob(H) (two-sided):                  0.00   Kurtosis:                         2.79\n",
       "===================================================================================\n",
       "\n",
       "Warnings:\n",
       "[1] Covariance matrix calculated using the outer product of gradients (complex-step).\n",
       "\"\"\""
      ]
     },
     "execution_count": 12,
     "metadata": {},
     "output_type": "execute_result"
    }
   ],
   "source": [
    "# from statsmodels.tsa.arima_model import ARIMA\n",
    "# model = ARIMA(ts_daily, order=(1, 0, 1)) \n",
    "# results_ARIMA = model.fit()\n",
    "\n",
    "import statsmodels.api as sm\n",
    "model = sm.tsa.arima.ARIMA(ts_daily, order=(1,0,1)).fit()\n",
    "# result = model.\n",
    "model.summary()"
   ]
  },
  {
   "cell_type": "code",
   "execution_count": 13,
   "id": "790317a8",
   "metadata": {},
   "outputs": [
    {
     "data": {
      "text/plain": [
       "1088.196664456959"
      ]
     },
     "execution_count": 13,
     "metadata": {},
     "output_type": "execute_result"
    }
   ],
   "source": [
    "model.aic"
   ]
  },
  {
   "cell_type": "code",
   "execution_count": 14,
   "id": "b058e2ad",
   "metadata": {},
   "outputs": [],
   "source": [
    "X = df.drop('target', axis=1)\n",
    "y = df['target']"
   ]
  },
  {
   "cell_type": "code",
   "execution_count": 15,
   "id": "6df3ec75",
   "metadata": {},
   "outputs": [
    {
     "data": {
      "text/html": [
       "<div>\n",
       "<style scoped>\n",
       "    .dataframe tbody tr th:only-of-type {\n",
       "        vertical-align: middle;\n",
       "    }\n",
       "\n",
       "    .dataframe tbody tr th {\n",
       "        vertical-align: top;\n",
       "    }\n",
       "\n",
       "    .dataframe thead th {\n",
       "        text-align: right;\n",
       "    }\n",
       "</style>\n",
       "<table border=\"1\" class=\"dataframe\">\n",
       "  <thead>\n",
       "    <tr style=\"text-align: right;\">\n",
       "      <th></th>\n",
       "      <th>Price</th>\n",
       "      <th>total_duration</th>\n",
       "      <th>record_time</th>\n",
       "      <th>total_stops</th>\n",
       "    </tr>\n",
       "  </thead>\n",
       "  <tbody>\n",
       "    <tr>\n",
       "      <th>0</th>\n",
       "      <td>-0.775799</td>\n",
       "      <td>0.983102</td>\n",
       "      <td>1.522317</td>\n",
       "      <td>1.763911</td>\n",
       "    </tr>\n",
       "    <tr>\n",
       "      <th>1</th>\n",
       "      <td>-0.747079</td>\n",
       "      <td>0.882203</td>\n",
       "      <td>1.522317</td>\n",
       "      <td>1.763911</td>\n",
       "    </tr>\n",
       "    <tr>\n",
       "      <th>2</th>\n",
       "      <td>-0.731694</td>\n",
       "      <td>0.335665</td>\n",
       "      <td>1.522317</td>\n",
       "      <td>-0.159423</td>\n",
       "    </tr>\n",
       "    <tr>\n",
       "      <th>3</th>\n",
       "      <td>-0.731694</td>\n",
       "      <td>0.831753</td>\n",
       "      <td>1.522317</td>\n",
       "      <td>0.802244</td>\n",
       "    </tr>\n",
       "    <tr>\n",
       "      <th>4</th>\n",
       "      <td>-0.727591</td>\n",
       "      <td>1.625494</td>\n",
       "      <td>1.522317</td>\n",
       "      <td>0.802244</td>\n",
       "    </tr>\n",
       "  </tbody>\n",
       "</table>\n",
       "</div>"
      ],
      "text/plain": [
       "      Price  total_duration  record_time  total_stops\n",
       "0 -0.775799        0.983102     1.522317     1.763911\n",
       "1 -0.747079        0.882203     1.522317     1.763911\n",
       "2 -0.731694        0.335665     1.522317    -0.159423\n",
       "3 -0.731694        0.831753     1.522317     0.802244\n",
       "4 -0.727591        1.625494     1.522317     0.802244"
      ]
     },
     "execution_count": 15,
     "metadata": {},
     "output_type": "execute_result"
    }
   ],
   "source": [
    "numeric_features = X.select_dtypes('int64')\n",
    "numeric_features\n",
    "ss = StandardScaler()\n",
    "num_df = pd.DataFrame(ss.fit_transform(numeric_features),\n",
    "                     columns = numeric_features.columns,\n",
    "                     index = numeric_features.index)\n",
    "num_df.head()"
   ]
  },
  {
   "cell_type": "code",
   "execution_count": 16,
   "id": "58756bcf",
   "metadata": {},
   "outputs": [],
   "source": [
    "from sklearn.pipeline import Pipeline"
   ]
  },
  {
   "cell_type": "code",
   "execution_count": 17,
   "id": "7a7d4110",
   "metadata": {},
   "outputs": [],
   "source": [
    "# ColumnTransformer to handle numerics and categoricals for pipelines\n",
    "numeric_features = X.select_dtypes(exclude=\"object\").columns\n",
    "numeric_transformer = Pipeline(\n",
    "    steps=[(\"scaler\", StandardScaler())]\n",
    ")\n",
    "\n",
    "categorical_features = X.select_dtypes(include=\"object\").columns\n",
    "categorical_transformer = OneHotEncoder()\n",
    "\n",
    "preprocessor = ColumnTransformer(\n",
    "    transformers=[\n",
    "        (\"num\", numeric_transformer, numeric_features),\n",
    "        (\"cat\", categorical_transformer, categorical_features),\n",
    "    ]\n",
    ")"
   ]
  },
  {
   "cell_type": "code",
   "execution_count": 18,
   "id": "43a257f2",
   "metadata": {},
   "outputs": [],
   "source": [
    "from sklearn.dummy import DummyClassifier"
   ]
  },
  {
   "cell_type": "code",
   "execution_count": 19,
   "id": "200052b6",
   "metadata": {},
   "outputs": [],
   "source": [
    "def num_encoder(df_to_encode):\n",
    "    ss = StandardScaler()\n",
    "\n",
    "    ss.fit(df_to_encode)\n",
    "    nums_df = pd.DataFrame(ss.transform(df_to_encode),\n",
    "                           columns = df_to_encode.columns,\n",
    "                          index = df_to_encode.index)\n",
    "    return nums_df\n",
    "\n",
    "def cat_encoder(df_to_encode):\n",
    "    ohe = OneHotEncoder(\n",
    "        drop = 'first',\n",
    "        sparse = False)\n",
    "    \n",
    "    cats = ohe.fit_transform(df_to_encode)\n",
    "    cat_df = pd.DataFrame(cats,\n",
    "                            columns = ohe.get_feature_names(),\n",
    "                            index = df_to_encode.index)\n",
    "    return cat_df\n",
    "\n",
    "def split_join(split):\n",
    "    categories = split.select_dtypes('object')\n",
    "    numerics = split.select_dtypes(['float64', 'int64'])\n",
    "\n",
    "    joined = pd.concat([num_encoder(numerics), cat_encoder(categories)], axis = 1)\n",
    "    return joined"
   ]
  },
  {
   "cell_type": "code",
   "execution_count": 20,
   "id": "c78dc8d8",
   "metadata": {},
   "outputs": [],
   "source": [
    "X_train, X_test, y_train, y_test = train_test_split(X, y, test_size=0.25, random_state=32)\n",
    "X_train_clean = split_join(X_train)\n",
    "X_test_clean = split_join(X_test)"
   ]
  },
  {
   "cell_type": "code",
   "execution_count": 21,
   "id": "9e6772df",
   "metadata": {},
   "outputs": [
    {
     "data": {
      "text/plain": [
       "0.9788762146176595"
      ]
     },
     "execution_count": 21,
     "metadata": {},
     "output_type": "execute_result"
    }
   ],
   "source": [
    "# Baseline model\n",
    "baseline = imbpipline(steps=[\n",
    "    (\"preprocessor\", preprocessor),\n",
    "    (\"dummy\", DummyClassifier(strategy= 'most_frequent', random_state=32))\n",
    "])\n",
    "\n",
    "baseline.fit(X_train, y_train)\n",
    "baseline.score(X_test, y_test)"
   ]
  },
  {
   "cell_type": "code",
   "execution_count": 22,
   "id": "981655df",
   "metadata": {},
   "outputs": [
    {
     "name": "stdout",
     "output_type": "stream",
     "text": [
      "\n",
      "    Train Accuracy: 99.68%\n",
      "    Train Precision: 95.94%\n",
      "    ------------------------------\n",
      "    Test Accuracy: 99.56%\n",
      "    Test Precision: 97.59%\n",
      "    \n"
     ]
    },
    {
     "data": {
      "image/png": "[encoded data removed]",
      "text/plain": [
       "<Figure size 432x288 with 2 Axes>"
      ]
     },
     "metadata": {
      "needs_background": "light"
     },
     "output_type": "display_data"
    }
   ],
   "source": [
    "# Logistic Regression model\n",
    "logreg_model = imbpipline(steps=[\n",
    "    (\"preprocessor\", preprocessor),\n",
    "    (\"logreg\", LogisticRegression(max_iter = 1000, random_state=32))\n",
    "])\n",
    "\n",
    "model_fit_print(logreg_model, X, y)"
   ]
  },
  {
   "cell_type": "code",
   "execution_count": 23,
   "id": "57f6c1e9",
   "metadata": {},
   "outputs": [
    {
     "data": {
      "text/plain": [
       "0    0.979192\n",
       "1    0.020808\n",
       "Name: target, dtype: float64"
      ]
     },
     "execution_count": 23,
     "metadata": {},
     "output_type": "execute_result"
    }
   ],
   "source": [
    "df['target'].value_counts(normalize=True)"
   ]
  },
  {
   "cell_type": "code",
   "execution_count": 24,
   "id": "d1d8923f",
   "metadata": {},
   "outputs": [
    {
     "name": "stdout",
     "output_type": "stream",
     "text": [
      "\n",
      "    Train Accuracy: 98.98%\n",
      "    Train Precision: 66.97%\n",
      "    ------------------------------\n",
      "    Test Accuracy: 98.84%\n",
      "    Test Precision: 64.52%\n",
      "    \n"
     ]
    },
    {
     "data": {
      "image/png": "[encoded data removed]",
      "text/plain": [
       "<Figure size 432x288 with 2 Axes>"
      ]
     },
     "metadata": {
      "needs_background": "light"
     },
     "output_type": "display_data"
    }
   ],
   "source": [
    "model_1 = imbpipline(steps=[\n",
    "    (\"preprocessor\", preprocessor),\n",
    "    ('SMOTE', SMOTE(random_state = 32)),\n",
    "    (\"logreg\", LogisticRegression(max_iter = 1000, random_state=32))\n",
    "])\n",
    "\n",
    "model_fit_print(model_1, X, y)"
   ]
  },
  {
   "cell_type": "code",
   "execution_count": 25,
   "id": "b2b933e7",
   "metadata": {},
   "outputs": [
    {
     "name": "stdout",
     "output_type": "stream",
     "text": [
      "\n",
      "    Train Accuracy: 100.0%\n",
      "    Train Precision: 100.0%\n",
      "    ------------------------------\n",
      "    Test Accuracy: 98.84%\n",
      "    Test Precision: 75.28%\n",
      "    \n"
     ]
    },
    {
     "data": {
      "image/png": "[encoded data removed]",
      "text/plain": [
       "<Figure size 432x288 with 2 Axes>"
      ]
     },
     "metadata": {
      "needs_background": "light"
     },
     "output_type": "display_data"
    }
   ],
   "source": [
    "dtree_model = imbpipline(steps=[\n",
    "    (\"preprocessor\", preprocessor),\n",
    "    ('SMOTE', SMOTE(random_state = 32)),\n",
    "    (\"dtree\", DecisionTreeClassifier(random_state=32))\n",
    "])\n",
    "\n",
    "model_fit_print(dtree_model, X, y)"
   ]
  },
  {
   "cell_type": "code",
   "execution_count": 26,
   "id": "12f87823",
   "metadata": {},
   "outputs": [
    {
     "name": "stdout",
     "output_type": "stream",
     "text": [
      "Fitting 5 folds for each of 648 candidates, totalling 3240 fits\n"
     ]
    },
    {
     "name": "stderr",
     "output_type": "stream",
     "text": [
      "[Parallel(n_jobs=-1)]: Using backend LokyBackend with 32 concurrent workers.\n",
      "[Parallel(n_jobs=-1)]: Done 136 tasks      | elapsed:    4.5s\n",
      "[Parallel(n_jobs=-1)]: Done 386 tasks      | elapsed:    6.6s\n",
      "[Parallel(n_jobs=-1)]: Done 736 tasks      | elapsed:    9.7s\n",
      "[Parallel(n_jobs=-1)]: Done 1186 tasks      | elapsed:   14.1s\n",
      "[Parallel(n_jobs=-1)]: Done 1736 tasks      | elapsed:   20.8s\n",
      "[Parallel(n_jobs=-1)]: Done 2386 tasks      | elapsed:   26.5s\n",
      "[Parallel(n_jobs=-1)]: Done 3136 tasks      | elapsed:   33.4s\n"
     ]
    },
    {
     "name": "stdout",
     "output_type": "stream",
     "text": [
      "\n",
      "    Optimized score and Parameters\n",
      "    ==============================\n",
      "    Score: 0.9990845318301927\n",
      "    ==============================\n",
      "    Parameters: {'dtree__criterion': 'entropy', 'dtree__max_depth': 10, 'dtree__min_samples_leaf': 1, 'dtree__min_samples_split': 3}\n",
      "    \n"
     ]
    },
    {
     "name": "stderr",
     "output_type": "stream",
     "text": [
      "[Parallel(n_jobs=-1)]: Done 3240 out of 3240 | elapsed:   33.9s finished\n"
     ]
    }
   ],
   "source": [
    "# # Approximately 1 minute run time\n",
    "# param_dict = {\n",
    "#     \"dtree__criterion\":['gini', 'entropy'],\n",
    "#     \"dtree__max_depth\":[1, 10, 25, 50],\n",
    "#     \"dtree__min_samples_split\":range(1, 10),\n",
    "#     \"dtree__min_samples_leaf\":range(1, 10)\n",
    "# }\n",
    "\n",
    "# gs = GridSearchCV(estimator=dtree_model,\n",
    "#                  param_grid=param_dict,\n",
    "#                  cv=5,\n",
    "#                  verbose=1,\n",
    "#                  n_jobs=-1)\n",
    "\n",
    "# gs.fit(X_train, y_train)\n",
    "# grid_result(gs)"
   ]
  },
  {
   "cell_type": "code",
   "execution_count": 27,
   "id": "1e6a1808",
   "metadata": {},
   "outputs": [
    {
     "name": "stdout",
     "output_type": "stream",
     "text": [
      "\n",
      "    Train Accuracy: 99.99%\n",
      "    Train Precision: 99.66%\n",
      "    ------------------------------\n",
      "    Test Accuracy: 99.98%\n",
      "    Test Precision: 100.0%\n",
      "    \n"
     ]
    },
    {
     "data": {
      "image/png": "[encoded data removed]",
      "text/plain": [
       "<Figure size 432x288 with 2 Axes>"
      ]
     },
     "metadata": {
      "needs_background": "light"
     },
     "output_type": "display_data"
    }
   ],
   "source": [
    "dtree_model2 = imbpipline(steps=[\n",
    "    (\"preprocessor\", preprocessor),\n",
    "    ('SMOTE', SMOTE(random_state = 32)),\n",
    "    (\"dtree\", DecisionTreeClassifier(criterion= 'entropy', max_depth= 10, min_samples_split= 3,\n",
    "                                    min_samples_leaf= 1, random_state= 32))\n",
    "])\n",
    "\n",
    "model_fit_print(dtree_model2, X, y)"
   ]
  },
  {
   "cell_type": "code",
   "execution_count": 28,
   "id": "020fa452",
   "metadata": {},
   "outputs": [
    {
     "name": "stdout",
     "output_type": "stream",
     "text": [
      "\n",
      "    Train Accuracy: 96.27%\n",
      "    Train Precision: 35.68%\n",
      "    ------------------------------\n",
      "    Test Accuracy: 94.32%\n",
      "    Test Precision: 23.34%\n",
      "    \n"
     ]
    },
    {
     "data": {
      "image/png": "[encoded data removed]",
      "text/plain": [
       "<Figure size 432x288 with 2 Axes>"
      ]
     },
     "metadata": {
      "needs_background": "light"
     },
     "output_type": "display_data"
    }
   ],
   "source": [
    "knn_model = imbpipline(steps=[\n",
    "    (\"preprocessor\", preprocessor),\n",
    "    ('SMOTE', SMOTE(random_state = 32)),\n",
    "    (\"knn\", KNeighborsClassifier())\n",
    "])\n",
    "\n",
    "model_fit_print(knn_model, X, y)"
   ]
  },
  {
   "cell_type": "code",
   "execution_count": 29,
   "id": "04f3e8e8",
   "metadata": {},
   "outputs": [
    {
     "name": "stdout",
     "output_type": "stream",
     "text": [
      "Fitting 5 folds for each of 150 candidates, totalling 750 fits\n"
     ]
    },
    {
     "name": "stderr",
     "output_type": "stream",
     "text": [
      "[Parallel(n_jobs=-1)]: Using backend LokyBackend with 32 concurrent workers.\n",
      "[Parallel(n_jobs=-1)]: Done 136 tasks      | elapsed:   40.5s\n",
      "[Parallel(n_jobs=-1)]: Done 386 tasks      | elapsed:  2.1min\n"
     ]
    },
    {
     "name": "stdout",
     "output_type": "stream",
     "text": [
      "\n",
      "    Optimized score and Parameters\n",
      "    ==============================\n",
      "    Score: 0.9762693655774847\n",
      "    ==============================\n",
      "    Parameters: {'knn__metric': 'manhattan', 'knn__n_neighbors': 5, 'knn__weights': 'distance'}\n",
      "    \n"
     ]
    },
    {
     "name": "stderr",
     "output_type": "stream",
     "text": [
      "[Parallel(n_jobs=-1)]: Done 750 out of 750 | elapsed:  4.3min finished\n"
     ]
    }
   ],
   "source": [
    "# # Approximately 4 minute run time\n",
    "# param_dict = {\n",
    "#     'knn__n_neighbors': range(5, 30),\n",
    "#     'knn__metric': ['manhattan', 'minkowski', 'euclidean'],\n",
    "#     'knn__weights' : ['distance', 'uniform']\n",
    "# }\n",
    "\n",
    "# gs = GridSearchCV(estimator=knn_model,\n",
    "#                  param_grid=param_dict,\n",
    "#                  cv=5,\n",
    "#                  verbose=1,\n",
    "#                  n_jobs=-1)\n",
    "\n",
    "# gs.fit(X_train, y_train)\n",
    "# grid_result(gs)"
   ]
  },
  {
   "cell_type": "code",
   "execution_count": 30,
   "id": "b37dd308",
   "metadata": {},
   "outputs": [
    {
     "name": "stdout",
     "output_type": "stream",
     "text": [
      "\n",
      "    Train Accuracy: 100.0%\n",
      "    Train Precision: 100.0%\n",
      "    ------------------------------\n",
      "    Test Accuracy: 97.61%\n",
      "    Test Precision: 45.39%\n",
      "    \n"
     ]
    },
    {
     "data": {
      "image/png": "[encoded data removed]",
      "text/plain": [
       "<Figure size 432x288 with 2 Axes>"
      ]
     },
     "metadata": {
      "needs_background": "light"
     },
     "output_type": "display_data"
    }
   ],
   "source": [
    "knn_model2 = imbpipline(steps=[\n",
    "    (\"preprocessor\", preprocessor),\n",
    "    ('SMOTE', SMOTE(random_state = 32)),\n",
    "    (\"knn\", KNeighborsClassifier(n_neighbors= 5, metric= 'manhattan', weights= 'distance'))\n",
    "])\n",
    "\n",
    "model_fit_print(knn_model2, X, y)"
   ]
  },
  {
   "cell_type": "code",
   "execution_count": 31,
   "id": "32cfcf68",
   "metadata": {},
   "outputs": [
    {
     "name": "stdout",
     "output_type": "stream",
     "text": [
      "923.5819345831011\n"
     ]
    }
   ],
   "source": [
    "from sklearn.cluster import KMeans\n",
    "\n",
    "kmeans = KMeans(n_clusters=3, random_state=32)\n",
    "\n",
    "kmeans.fit(X_train_clean) \n",
    "\n",
    "cluster_assignments = kmeans.predict(X_test_clean)\n",
    "\n",
    "from sklearn.metrics import calinski_harabasz_score\n",
    "\n",
    "print(calinski_harabasz_score(X_test_clean, cluster_assignments)) #higher score better"
   ]
  },
  {
   "cell_type": "code",
   "execution_count": 32,
   "id": "bc3ef9e9",
   "metadata": {},
   "outputs": [
    {
     "data": {
      "image/png": "[encoded data removed]",
      "text/plain": [
       "<Figure size 720x576 with 1 Axes>"
      ]
     },
     "metadata": {
      "needs_background": "light"
     },
     "output_type": "display_data"
    }
   ],
   "source": [
    "distortions = []\n",
    "\n",
    "# Calculate SSE for different K\n",
    "for k in range(2, 50):\n",
    "    kmeans = KMeans(n_clusters=k, random_state=32)\n",
    "    kmeans.fit(X_train_clean) \n",
    "    distortions.append(kmeans.inertia_)\n",
    "\n",
    "# Plot values of SSE\n",
    "fig, ax = plt.subplots(figsize=(10, 8))\n",
    "ax.set_title('Elbow curve')\n",
    "ax.set_xlabel('k')\n",
    "ax.plot(range(2, 50), distortions)\n",
    "ax.grid(True)"
   ]
  },
  {
   "cell_type": "code",
   "execution_count": 33,
   "id": "cd1fd0fe",
   "metadata": {},
   "outputs": [],
   "source": [
    "import sklearn.metrics as metrics"
   ]
  },
  {
   "cell_type": "code",
   "execution_count": 34,
   "id": "d8d2f335",
   "metadata": {},
   "outputs": [
    {
     "data": {
      "image/png": "[encoded data removed]",
      "text/plain": [
       "<Figure size 720x576 with 1 Axes>"
      ]
     },
     "metadata": {
      "needs_background": "light"
     },
     "output_type": "display_data"
    }
   ],
   "source": [
    "silhouette_plot = []\n",
    "for k in range(2, 50):\n",
    "    clusters = KMeans(n_clusters=k, random_state=10)\n",
    "    cluster_labels = clusters.fit_predict(X_train_clean)\n",
    "    silhouette_avg = metrics.silhouette_score(X_train_clean, cluster_labels)\n",
    "    silhouette_plot.append(silhouette_avg)\n",
    "\n",
    "# Plot Silhouette coefficient\n",
    "fig, ax = plt.subplots(figsize=(10, 8))\n",
    "ax.set_title('Silhouette coefficients over k')\n",
    "ax.set_xlabel('k')\n",
    "ax.set_ylabel('silhouette coefficient')\n",
    "ax.plot(range(2, 50), silhouette_plot)\n",
    "ax.axhline(y=np.mean(silhouette_plot), color=\"red\", linestyle=\"--\")\n",
    "ax.grid(True)"
   ]
  },
  {
   "cell_type": "code",
   "execution_count": 35,
   "id": "9b302992",
   "metadata": {},
   "outputs": [
    {
     "name": "stdout",
     "output_type": "stream",
     "text": [
      "439.86131891672153\n"
     ]
    }
   ],
   "source": [
    "kmeans2 = KMeans(n_clusters=22, random_state=32)\n",
    "\n",
    "kmeans2.fit(X_train_clean) \n",
    "\n",
    "cluster_assignments = kmeans2.predict(X_test_clean)\n",
    "\n",
    "from sklearn.metrics import calinski_harabasz_score\n",
    "\n",
    "print(calinski_harabasz_score(X_test_clean, cluster_assignments)) #higher score better"
   ]
  },
  {
   "cell_type": "code",
   "execution_count": 36,
   "id": "7957faef",
   "metadata": {},
   "outputs": [],
   "source": [
    "from sklearn.ensemble import RandomForestClassifier"
   ]
  },
  {
   "cell_type": "code",
   "execution_count": 37,
   "id": "771fc78b",
   "metadata": {},
   "outputs": [
    {
     "name": "stdout",
     "output_type": "stream",
     "text": [
      "\n",
      "    Train Accuracy: 100.0%\n",
      "    Train Precision: 100.0%\n",
      "    ------------------------------\n",
      "    Test Accuracy: 99.92%\n",
      "    Test Precision: 100.0%\n",
      "    \n"
     ]
    },
    {
     "data": {
      "image/png": "[encoded data removed]",
      "text/plain": [
       "<Figure size 432x288 with 2 Axes>"
      ]
     },
     "metadata": {
      "needs_background": "light"
     },
     "output_type": "display_data"
    }
   ],
   "source": [
    "rforest_model = imbpipline(steps=[\n",
    "    (\"preprocessor\", preprocessor),\n",
    "    ('SMOTE', SMOTE(random_state = 32)),\n",
    "    (\"rf\", RandomForestClassifier(random_state = 32))\n",
    "])\n",
    "\n",
    "model_fit_print(rforest_model, X, y)"
   ]
  },
  {
   "cell_type": "code",
   "execution_count": 38,
   "id": "c5aaf430",
   "metadata": {},
   "outputs": [
    {
     "name": "stdout",
     "output_type": "stream",
     "text": [
      "Fitting 5 folds for each of 2592 candidates, totalling 12960 fits\n"
     ]
    },
    {
     "name": "stderr",
     "output_type": "stream",
     "text": [
      "[Parallel(n_jobs=-1)]: Using backend LokyBackend with 32 concurrent workers.\n",
      "[Parallel(n_jobs=-1)]: Done 208 tasks      | elapsed:    5.0s\n",
      "[Parallel(n_jobs=-1)]: Done 482 tasks      | elapsed:   11.3s\n",
      "[Parallel(n_jobs=-1)]: Done 832 tasks      | elapsed:   19.3s\n",
      "[Parallel(n_jobs=-1)]: Done 1282 tasks      | elapsed:   29.7s\n",
      "[Parallel(n_jobs=-1)]: Done 1832 tasks      | elapsed:   49.2s\n",
      "[Parallel(n_jobs=-1)]: Done 2482 tasks      | elapsed:  1.4min\n",
      "[Parallel(n_jobs=-1)]: Done 3232 tasks      | elapsed:  2.1min\n",
      "[Parallel(n_jobs=-1)]: Done 4082 tasks      | elapsed:  3.4min\n",
      "[Parallel(n_jobs=-1)]: Done 5032 tasks      | elapsed:  4.8min\n",
      "[Parallel(n_jobs=-1)]: Done 6082 tasks      | elapsed:  6.4min\n",
      "[Parallel(n_jobs=-1)]: Done 7232 tasks      | elapsed:  7.2min\n",
      "[Parallel(n_jobs=-1)]: Done 8482 tasks      | elapsed:  7.9min\n",
      "[Parallel(n_jobs=-1)]: Done 9832 tasks      | elapsed:  9.3min\n",
      "[Parallel(n_jobs=-1)]: Done 11282 tasks      | elapsed: 11.5min\n",
      "[Parallel(n_jobs=-1)]: Done 12832 tasks      | elapsed: 14.0min\n",
      "[Parallel(n_jobs=-1)]: Done 12960 out of 12960 | elapsed: 14.2min finished\n"
     ]
    },
    {
     "name": "stdout",
     "output_type": "stream",
     "text": [
      "\n",
      "    Optimized score and Parameters\n",
      "    ==============================\n",
      "    Score: 0.9992957994358266\n",
      "    ==============================\n",
      "    Parameters: {'rf__criterion': 'entropy', 'rf__max_depth': 50, 'rf__min_samples_leaf': 2, 'rf__min_samples_split': 5, 'rf__n_estimators': 100}\n",
      "    \n"
     ]
    }
   ],
   "source": [
    "# # Approximately 15 minute run time\n",
    "# rforest_grid = imbpipline(steps=[\n",
    "#     (\"preprocessor\", preprocessor),\n",
    "#     ('SMOTE', SMOTE(random_state = 32)),\n",
    "#     (\"rf\", RandomForestClassifier(random_state = 32))\n",
    "# ])\n",
    "\n",
    "# param_grid = {\n",
    "#     \"rf__n_estimators\":[30, 100, 150, 200],\n",
    "#     \"rf__criterion\":['gini', 'entropy'], \n",
    "#     \"rf__max_depth\":[1, 10, 25, 50],\n",
    "#     \"rf__min_samples_split\":range(1, 10),\n",
    "#     \"rf__min_samples_leaf\":range(1, 10)\n",
    "# }            \n",
    "\n",
    "# gs = GridSearchCV(estimator=rforest_grid,\n",
    "#                  param_grid=param_grid,\n",
    "#                  cv=5,\n",
    "#                  verbose=1,\n",
    "#                  n_jobs=-1)\n",
    "\n",
    "# gs.fit(X_train, y_train)\n",
    "# grid_result(gs)"
   ]
  },
  {
   "cell_type": "code",
   "execution_count": 39,
   "id": "1e3347be",
   "metadata": {},
   "outputs": [
    {
     "name": "stdout",
     "output_type": "stream",
     "text": [
      "\n",
      "    Train Accuracy: 99.97%\n",
      "    Train Precision: 100.0%\n",
      "    ------------------------------\n",
      "    Test Accuracy: 99.94%\n",
      "    Test Precision: 100.0%\n",
      "    \n"
     ]
    },
    {
     "data": {
      "image/png": "[encoded data removed]",
      "text/plain": [
       "<Figure size 432x288 with 2 Axes>"
      ]
     },
     "metadata": {
      "needs_background": "light"
     },
     "output_type": "display_data"
    }
   ],
   "source": [
    "rforest_model2 = imbpipline(steps=[\n",
    "    (\"preprocessor\", preprocessor),\n",
    "    ('SMOTE', SMOTE(random_state = 32)),\n",
    "    (\"rf\", RandomForestClassifier(criterion = 'entropy', n_estimators = 100, max_depth = 50,\n",
    "                                  min_samples_leaf = 2, min_samples_split = 5, random_state = 32))\n",
    "])\n",
    "\n",
    "model_fit_print(rforest_model2, X, y)"
   ]
  },
  {
   "cell_type": "code",
   "execution_count": 40,
   "id": "f43e8635",
   "metadata": {},
   "outputs": [],
   "source": [
    "from sklearn.ensemble import VotingClassifier"
   ]
  },
  {
   "cell_type": "code",
   "execution_count": null,
   "id": "588b9939",
   "metadata": {},
   "outputs": [],
   "source": []
  }
 ],
 "metadata": {
  "kernelspec": {
   "display_name": "Python 3 (ipykernel)",
   "language": "python",
   "name": "python3"
  },
  "language_info": {
   "codemirror_mode": {
    "name": "ipython",
    "version": 3
   },
   "file_extension": ".py",
   "mimetype": "text/x-python",
   "name": "python",
   "nbconvert_exporter": "python",
   "pygments_lexer": "ipython3",
   "version": "3.8.12"
  }
 },
 "nbformat": 4,
 "nbformat_minor": 5
}
