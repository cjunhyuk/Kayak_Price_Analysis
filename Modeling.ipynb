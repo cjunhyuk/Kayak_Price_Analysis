{
 "cells": [
  {
   "cell_type": "markdown",
   "id": "13acb341",
   "metadata": {},
   "source": [
    "\n",
    "# Modeling\n",
    "\n"
   ]
  },
  {
   "cell_type": "code",
   "execution_count": 1,
   "id": "ec34d1fa",
   "metadata": {},
   "outputs": [],
   "source": [
    "import pandas as pd\n",
    "import numpy as np\n",
    "import matplotlib.pyplot as plt\n",
    "import matplotlib\n",
    "\n",
    "from statsmodels.tsa.stattools import adfuller"
   ]
  },
  {
   "cell_type": "code",
   "execution_count": 2,
   "id": "2cff75d4",
   "metadata": {},
   "outputs": [
    {
     "data": {
      "text/html": [
       "<div>\n",
       "<style scoped>\n",
       "    .dataframe tbody tr th:only-of-type {\n",
       "        vertical-align: middle;\n",
       "    }\n",
       "\n",
       "    .dataframe tbody tr th {\n",
       "        vertical-align: top;\n",
       "    }\n",
       "\n",
       "    .dataframe thead th {\n",
       "        text-align: right;\n",
       "    }\n",
       "</style>\n",
       "<table border=\"1\" class=\"dataframe\">\n",
       "  <thead>\n",
       "    <tr style=\"text-align: right;\">\n",
       "      <th></th>\n",
       "      <th>Out Cities</th>\n",
       "      <th>Out Stops</th>\n",
       "      <th>Return Cities</th>\n",
       "      <th>Return Stops</th>\n",
       "      <th>Price</th>\n",
       "      <th>departure_date</th>\n",
       "      <th>total_duration</th>\n",
       "      <th>dep_time</th>\n",
       "      <th>ret_time</th>\n",
       "      <th>dep_airline</th>\n",
       "      <th>ret_airline</th>\n",
       "      <th>total_stops</th>\n",
       "      <th>target</th>\n",
       "    </tr>\n",
       "  </thead>\n",
       "  <tbody>\n",
       "    <tr>\n",
       "      <th>0</th>\n",
       "      <td>EWR‐SIN</td>\n",
       "      <td>2</td>\n",
       "      <td>SIN‐EWR</td>\n",
       "      <td>2</td>\n",
       "      <td>951</td>\n",
       "      <td>2022-04-10</td>\n",
       "      <td>3245</td>\n",
       "      <td>8:00</td>\n",
       "      <td>1:10</td>\n",
       "      <td>Korean Air</td>\n",
       "      <td>Korean Air</td>\n",
       "      <td>4</td>\n",
       "      <td>0</td>\n",
       "    </tr>\n",
       "    <tr>\n",
       "      <th>1</th>\n",
       "      <td>EWR‐SIN</td>\n",
       "      <td>2</td>\n",
       "      <td>SIN‐EWR</td>\n",
       "      <td>2</td>\n",
       "      <td>979</td>\n",
       "      <td>2022-04-10</td>\n",
       "      <td>3185</td>\n",
       "      <td>9:00</td>\n",
       "      <td>1:10</td>\n",
       "      <td>Korean Air</td>\n",
       "      <td>Korean Air</td>\n",
       "      <td>4</td>\n",
       "      <td>0</td>\n",
       "    </tr>\n",
       "    <tr>\n",
       "      <th>2</th>\n",
       "      <td>EWR‐SIN</td>\n",
       "      <td>1</td>\n",
       "      <td>SIN‐EWR</td>\n",
       "      <td>1</td>\n",
       "      <td>994</td>\n",
       "      <td>2022-04-10</td>\n",
       "      <td>2860</td>\n",
       "      <td>11:25</td>\n",
       "      <td>6:10</td>\n",
       "      <td>ANA</td>\n",
       "      <td>ANA</td>\n",
       "      <td>2</td>\n",
       "      <td>1</td>\n",
       "    </tr>\n",
       "    <tr>\n",
       "      <th>3</th>\n",
       "      <td>EWR‐SIN</td>\n",
       "      <td>2</td>\n",
       "      <td>SIN‐EWR</td>\n",
       "      <td>1</td>\n",
       "      <td>994</td>\n",
       "      <td>2022-04-10</td>\n",
       "      <td>3155</td>\n",
       "      <td>6:30</td>\n",
       "      <td>6:10</td>\n",
       "      <td>ANA</td>\n",
       "      <td>ANA</td>\n",
       "      <td>3</td>\n",
       "      <td>0</td>\n",
       "    </tr>\n",
       "    <tr>\n",
       "      <th>4</th>\n",
       "      <td>EWR‐SIN</td>\n",
       "      <td>1</td>\n",
       "      <td>SIN‐EWR</td>\n",
       "      <td>2</td>\n",
       "      <td>998</td>\n",
       "      <td>2022-04-10</td>\n",
       "      <td>3627</td>\n",
       "      <td>11:25</td>\n",
       "      <td>10:10</td>\n",
       "      <td>ANA</td>\n",
       "      <td>ANA</td>\n",
       "      <td>3</td>\n",
       "      <td>0</td>\n",
       "    </tr>\n",
       "  </tbody>\n",
       "</table>\n",
       "</div>"
      ],
      "text/plain": [
       "  Out Cities  Out Stops Return Cities  Return Stops  Price departure_date  \\\n",
       "0    EWR‐SIN          2       SIN‐EWR             2    951     2022-04-10   \n",
       "1    EWR‐SIN          2       SIN‐EWR             2    979     2022-04-10   \n",
       "2    EWR‐SIN          1       SIN‐EWR             1    994     2022-04-10   \n",
       "3    EWR‐SIN          2       SIN‐EWR             1    994     2022-04-10   \n",
       "4    EWR‐SIN          1       SIN‐EWR             2    998     2022-04-10   \n",
       "\n",
       "   total_duration dep_time ret_time dep_airline ret_airline  total_stops  \\\n",
       "0            3245     8:00     1:10  Korean Air  Korean Air            4   \n",
       "1            3185     9:00     1:10  Korean Air  Korean Air            4   \n",
       "2            2860    11:25     6:10         ANA         ANA            2   \n",
       "3            3155     6:30     6:10         ANA         ANA            3   \n",
       "4            3627    11:25    10:10         ANA         ANA            3   \n",
       "\n",
       "   target  \n",
       "0       0  \n",
       "1       0  \n",
       "2       1  \n",
       "3       0  \n",
       "4       0  "
      ]
     },
     "execution_count": 2,
     "metadata": {},
     "output_type": "execute_result"
    }
   ],
   "source": [
    "df = pd.read_csv('data/masterdf.csv')\n",
    "col_to_delete = ['Out Duration', 'Return Duration', 'timestamp', 'Out Time', \n",
    "                 'Return Time', 'sort', 'Out Stop Cities', 'Return Stop Cities',\n",
    "                'Out Airline', 'Return Airline']\n",
    "df = df.drop(col_to_delete, axis = 1)\n",
    "df.head()"
   ]
  },
  {
   "cell_type": "code",
   "execution_count": 3,
   "id": "a1a03374",
   "metadata": {},
   "outputs": [],
   "source": [
    "# For testing stationarity\n",
    "def dicky_fuller_test(data):\n",
    "    alpha = 0.05\n",
    "    is_stationary = adfuller(data)[1] < alpha\n",
    "    if is_stationary == True:\n",
    "        print(f'The data is stationary with a fuller score of {round(adfuller(data)[1],3)}')\n",
    "    else:\n",
    "        print(f'The data is not stationary with a fuller score of {round(adfuller(data)[1],3)}')\n",
    "    return"
   ]
  },
  {
   "cell_type": "code",
   "execution_count": 4,
   "id": "d4fb9bea",
   "metadata": {},
   "outputs": [],
   "source": [
    "time_df = df.set_index(pd.to_datetime(df['departure_date']), drop=True)\n",
    "\n",
    "time_df = time_df['Price']"
   ]
  },
  {
   "cell_type": "code",
   "execution_count": 5,
   "id": "466a94b1",
   "metadata": {},
   "outputs": [
    {
     "name": "stdout",
     "output_type": "stream",
     "text": [
      "The data is stationary with a fuller score of 0.0\n"
     ]
    },
    {
     "data": {
      "image/png": "[encoded data removed]",
      "text/plain": [
       "<Figure size 1008x432 with 1 Axes>"
      ]
     },
     "metadata": {
      "needs_background": "light"
     },
     "output_type": "display_data"
    }
   ],
   "source": [
    "time_df.plot(figsize=(14,6), linewidth=2, fontsize=14);\n",
    "dicky_fuller_test(time_df)"
   ]
  },
  {
   "cell_type": "code",
   "execution_count": 6,
   "id": "45c89838",
   "metadata": {},
   "outputs": [],
   "source": [
    "from sklearn.linear_model import LogisticRegression\n",
    "from sklearn.compose import ColumnTransformer\n",
    "from sklearn.model_selection import train_test_split\n",
    "from sklearn.preprocessing import StandardScaler, OneHotEncoder"
   ]
  },
  {
   "cell_type": "code",
   "execution_count": 7,
   "id": "b058e2ad",
   "metadata": {},
   "outputs": [],
   "source": [
    "X = df.drop('target', axis=1)\n",
    "y = df['target']"
   ]
  },
  {
   "cell_type": "code",
   "execution_count": 8,
   "id": "6df3ec75",
   "metadata": {},
   "outputs": [
    {
     "data": {
      "text/html": [
       "<div>\n",
       "<style scoped>\n",
       "    .dataframe tbody tr th:only-of-type {\n",
       "        vertical-align: middle;\n",
       "    }\n",
       "\n",
       "    .dataframe tbody tr th {\n",
       "        vertical-align: top;\n",
       "    }\n",
       "\n",
       "    .dataframe thead th {\n",
       "        text-align: right;\n",
       "    }\n",
       "</style>\n",
       "<table border=\"1\" class=\"dataframe\">\n",
       "  <thead>\n",
       "    <tr style=\"text-align: right;\">\n",
       "      <th></th>\n",
       "      <th>Out Stops</th>\n",
       "      <th>Return Stops</th>\n",
       "      <th>Price</th>\n",
       "      <th>total_duration</th>\n",
       "      <th>total_stops</th>\n",
       "    </tr>\n",
       "  </thead>\n",
       "  <tbody>\n",
       "    <tr>\n",
       "      <th>0</th>\n",
       "      <td>1.488991</td>\n",
       "      <td>1.560860</td>\n",
       "      <td>-0.766888</td>\n",
       "      <td>0.935398</td>\n",
       "      <td>1.878633</td>\n",
       "    </tr>\n",
       "    <tr>\n",
       "      <th>1</th>\n",
       "      <td>1.488991</td>\n",
       "      <td>1.560860</td>\n",
       "      <td>-0.737634</td>\n",
       "      <td>0.830532</td>\n",
       "      <td>1.878633</td>\n",
       "    </tr>\n",
       "    <tr>\n",
       "      <th>2</th>\n",
       "      <td>0.073627</td>\n",
       "      <td>0.098238</td>\n",
       "      <td>-0.721962</td>\n",
       "      <td>0.262508</td>\n",
       "      <td>0.105656</td>\n",
       "    </tr>\n",
       "    <tr>\n",
       "      <th>3</th>\n",
       "      <td>1.488991</td>\n",
       "      <td>0.098238</td>\n",
       "      <td>-0.721962</td>\n",
       "      <td>0.778099</td>\n",
       "      <td>0.992145</td>\n",
       "    </tr>\n",
       "    <tr>\n",
       "      <th>4</th>\n",
       "      <td>0.073627</td>\n",
       "      <td>1.560860</td>\n",
       "      <td>-0.717782</td>\n",
       "      <td>1.603045</td>\n",
       "      <td>0.992145</td>\n",
       "    </tr>\n",
       "  </tbody>\n",
       "</table>\n",
       "</div>"
      ],
      "text/plain": [
       "   Out Stops  Return Stops     Price  total_duration  total_stops\n",
       "0   1.488991      1.560860 -0.766888        0.935398     1.878633\n",
       "1   1.488991      1.560860 -0.737634        0.830532     1.878633\n",
       "2   0.073627      0.098238 -0.721962        0.262508     0.105656\n",
       "3   1.488991      0.098238 -0.721962        0.778099     0.992145\n",
       "4   0.073627      1.560860 -0.717782        1.603045     0.992145"
      ]
     },
     "execution_count": 8,
     "metadata": {},
     "output_type": "execute_result"
    }
   ],
   "source": [
    "numeric_features = X.select_dtypes('int64')\n",
    "numeric_features\n",
    "ss = StandardScaler()\n",
    "num_df = pd.DataFrame(ss.fit_transform(numeric_features),\n",
    "                     columns = numeric_features.columns,\n",
    "                     index = numeric_features.index)\n",
    "num_df.head()"
   ]
  },
  {
   "cell_type": "code",
   "execution_count": 9,
   "id": "25af9ffe",
   "metadata": {},
   "outputs": [],
   "source": [
    "from sklearn.pipeline import Pipeline"
   ]
  },
  {
   "cell_type": "code",
   "execution_count": 10,
   "id": "7a7d4110",
   "metadata": {},
   "outputs": [],
   "source": [
    "numeric_features = X.select_dtypes(exclude=\"object\").columns\n",
    "numeric_transformer = Pipeline(\n",
    "    steps=[(\"scaler\", StandardScaler())]\n",
    ")\n",
    "\n",
    "categorical_features = X.select_dtypes(include=\"object\").columns\n",
    "categorical_transformer = OneHotEncoder()\n",
    "\n",
    "preprocessor = ColumnTransformer(\n",
    "    transformers=[\n",
    "        (\"num\", numeric_transformer, numeric_features),\n",
    "        (\"cat\", categorical_transformer, categorical_features),\n",
    "    ]\n",
    ")"
   ]
  },
  {
   "cell_type": "code",
   "execution_count": 11,
   "id": "981655df",
   "metadata": {},
   "outputs": [
    {
     "name": "stdout",
     "output_type": "stream",
     "text": [
      "model score: 0.992\n"
     ]
    }
   ],
   "source": [
    "# Append classifier to preprocessing pipeline.\n",
    "# Now we have a full prediction pipeline.\n",
    "baseline = Pipeline(steps=[\n",
    "    (\"preprocessor\", preprocessor), \n",
    "    (\"classifier\", LogisticRegression(random_state=32))\n",
    "])\n",
    "\n",
    "X_train, X_test, y_train, y_test = train_test_split(X, y, test_size=0.2, random_state=32)\n",
    "\n",
    "baseline.fit(X_train, y_train)\n",
    "print(\"model score: %.3f\" % baseline.score(X_test, y_test))"
   ]
  },
  {
   "cell_type": "code",
   "execution_count": 12,
   "id": "3dd4b891",
   "metadata": {},
   "outputs": [],
   "source": [
    "from sklearn.metrics import accuracy_score, precision_score, recall_score,\\\n",
    "plot_confusion_matrix"
   ]
  },
  {
   "cell_type": "code",
   "execution_count": 13,
   "id": "991b03ca",
   "metadata": {},
   "outputs": [],
   "source": [
    "def score_matrix_printer(model, X_train, y_train, X_test, y_test):\n",
    "    train_pred = model.predict(X_train)\n",
    "    test_pred = model.predict(X_test)\n",
    "    \n",
    "    # Cleaning up scores to be more visually appealing\n",
    "    ascore_train = round((accuracy_score(y_train, train_pred) * 100), 2)\n",
    "    pscore_train = round((precision_score(y_train, train_pred) * 100), 2)\n",
    "    rscore_train = round((recall_score(y_train, train_pred) * 100), 2)\n",
    "    \n",
    "    ascore_test = round((accuracy_score(y_test, test_pred) * 100), 2)\n",
    "    pscore_test = round((precision_score(y_test, test_pred) * 100), 2)\n",
    "    rscore_test = round((recall_score(y_test, test_pred) * 100), 2)\n",
    "    \n",
    "    conf_mat = plot_confusion_matrix(model, X_test, y_test)\n",
    "    \n",
    "    print(f\"\"\"\n",
    "    Train Accuracy: {ascore_train}%\n",
    "    Train Precision: {pscore_train}%\n",
    "    ------------------------------\n",
    "    Test Accuracy: {ascore_test}%\n",
    "    Test Precision: {pscore_test}%\n",
    "    \"\"\")"
   ]
  },
  {
   "cell_type": "code",
   "execution_count": 14,
   "id": "48dd6445",
   "metadata": {},
   "outputs": [
    {
     "name": "stdout",
     "output_type": "stream",
     "text": [
      "\n",
      "    Train Accuracy: 99.48%\n",
      "    Train Precision: 98.45%\n",
      "    ------------------------------\n",
      "    Test Accuracy: 99.23%\n",
      "    Test Precision: 98.19%\n",
      "    \n"
     ]
    },
    {
     "data": {
      "image/png": "[encoded data removed]",
      "text/plain": [
       "<Figure size 432x288 with 2 Axes>"
      ]
     },
     "metadata": {
      "needs_background": "light"
     },
     "output_type": "display_data"
    }
   ],
   "source": [
    "score_matrix_printer(baseline, X_train, y_train, X_test, y_test)"
   ]
  },
  {
   "cell_type": "code",
   "execution_count": 15,
   "id": "dde84589",
   "metadata": {},
   "outputs": [],
   "source": [
    "from imblearn.over_sampling import SMOTE\n",
    "from imblearn.pipeline import make_pipeline\n",
    "from imblearn.pipeline import Pipeline as imbpipline"
   ]
  },
  {
   "cell_type": "code",
   "execution_count": 16,
   "id": "d1d8923f",
   "metadata": {},
   "outputs": [
    {
     "name": "stdout",
     "output_type": "stream",
     "text": [
      "model score: 0.988\n"
     ]
    }
   ],
   "source": [
    "model_1 = imbpipline(steps=[\n",
    "    (\"preprocessor\", preprocessor),\n",
    "    ('SMOTE', SMOTE(random_state = 32)),\n",
    "    (\"classifier\", LogisticRegression(max_iter = 1000, random_state=32))\n",
    "])\n",
    "\n",
    "X_train, X_test, y_train, y_test = train_test_split(X, y, test_size=0.2, random_state=32)\n",
    "\n",
    "model_1.fit(X_train, y_train)\n",
    "print(\"model score: %.3f\" % model_1.score(X_test, y_test))"
   ]
  },
  {
   "cell_type": "code",
   "execution_count": 17,
   "id": "fd62a8b7",
   "metadata": {},
   "outputs": [
    {
     "name": "stdout",
     "output_type": "stream",
     "text": [
      "\n",
      "    Train Accuracy: 98.96%\n",
      "    Train Precision: 91.51%\n",
      "    ------------------------------\n",
      "    Test Accuracy: 98.83%\n",
      "    Test Precision: 90.16%\n",
      "    \n"
     ]
    },
    {
     "data": {
      "image/png": "[encoded data removed]",
      "text/plain": [
       "<Figure size 432x288 with 2 Axes>"
      ]
     },
     "metadata": {
      "needs_background": "light"
     },
     "output_type": "display_data"
    }
   ],
   "source": [
    "score_matrix_printer(model_1, X_train, y_train, X_test, y_test)"
   ]
  },
  {
   "cell_type": "code",
   "execution_count": null,
   "id": "020fa452",
   "metadata": {},
   "outputs": [],
   "source": []
  }
 ],
 "metadata": {
  "kernelspec": {
   "display_name": "Python 3 (ipykernel)",
   "language": "python",
   "name": "python3"
  },
  "language_info": {
   "codemirror_mode": {
    "name": "ipython",
    "version": 3
   },
   "file_extension": ".py",
   "mimetype": "text/x-python",
   "name": "python",
   "nbconvert_exporter": "python",
   "pygments_lexer": "ipython3",
   "version": "3.8.12"
  }
 },
 "nbformat": 4,
 "nbformat_minor": 5
}
